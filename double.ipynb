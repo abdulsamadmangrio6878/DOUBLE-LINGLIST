{
 "cells": [
  {
   "cell_type": "code",
   "execution_count": 2,
   "metadata": {},
   "outputs": [],
   "source": [
    "\n",
    "class Node:\n",
    "    def __init__(self, value):\n",
    "        self.value = value\n",
    "        self.next = None\n",
    "        self.prev = None\n",
    "\n",
    "class DoublyLinkedList:\n",
    "    def __init__(self):\n",
    "        self.head = None\n",
    "        self.tail = None\n",
    "\n",
    "    def is_empty(self):\n",
    "        return self.head is None\n",
    "\n",
    "    def append(self, value):\n",
    "        node = Node(value)\n",
    "        if self.is_empty():\n",
    "            self.head = node\n",
    "            self.tail = node\n",
    "        else:\n",
    "            node.prev = self.tail\n",
    "            self.tail.next = node\n",
    "            self.tail = node\n",
    "\n",
    "    def prepend(self, value):\n",
    "        node = Node(value)\n",
    "        if self.is_empty():\n",
    "            self.head = node\n",
    "            self.tail = node\n",
    "        else:\n",
    "            node.next = self.head\n",
    "            self.head.prev = node\n",
    "            self.head = node\n",
    "\n",
    "    def delete(self, value):\n",
    "        current_node = self.head\n",
    "        while current_node is not None:\n",
    "            if current_node.value == value:\n",
    "                if current_node.prev is None:\n",
    "                    self.head = current_node.next\n",
    "                else:\n",
    "                    current_node.prev.next = current_node.next\n",
    "                if current_node.next is None:\n",
    "                    self.tail = current_node.prev\n",
    "                else:\n",
    "                    current_node.next.prev = current_node.prev\n",
    "                return\n",
    "            current_node = current_node.next\n",
    "\n",
    "    def __str__(self):\n",
    "        nodes = []\n",
    "        current_node = self.head\n",
    "        while current_node is not None:\n",
    "            nodes.append(str(current_node.value))\n",
    "            current_node = current_node.next\n",
    "        return \" <-> \".join(nodes)"
   ]
  },
  {
   "cell_type": "code",
   "execution_count": null,
   "metadata": {},
   "outputs": [],
   "source": [
    "def reverse_array"
   ]
  }
 ],
 "metadata": {
  "kernelspec": {
   "display_name": "Python 3",
   "language": "python",
   "name": "python3"
  },
  "language_info": {
   "codemirror_mode": {
    "name": "ipython",
    "version": 3
   },
   "file_extension": ".py",
   "mimetype": "text/x-python",
   "name": "python",
   "nbconvert_exporter": "python",
   "pygments_lexer": "ipython3",
   "version": "3.11.1"
  },
  "orig_nbformat": 4
 },
 "nbformat": 4,
 "nbformat_minor": 2
}
